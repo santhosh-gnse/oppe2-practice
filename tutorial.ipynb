{
 "cells": [
  {
   "cell_type": "code",
   "execution_count": 3,
   "id": "a5b9a4c2-d956-4fa6-9aed-36ddb44f7186",
   "metadata": {
    "tags": []
   },
   "outputs": [
    {
     "name": "stdout",
     "output_type": "stream",
     "text": [
      "Installed kernelspec mlops in /home/jupyter/.local/share/jupyter/kernels/mlops\n"
     ]
    }
   ],
   "source": [
    "%%bash\n",
    "# Install Jupyter kernel in the virtual environment\n",
    "source .env/bin/activate \n",
    "uv pip install ipykernel -q\n",
    "\n",
    "# Install custom kernel\n",
    "python -m ipykernel install --user --name=mlops --display-name=\"Python (oppe2)\""
   ]
  },
  {
   "cell_type": "code",
   "execution_count": 4,
   "id": "fd0ff1ae-db46-403f-95a4-48d49d4d08c7",
   "metadata": {
    "tags": []
   },
   "outputs": [
    {
     "name": "stdout",
     "output_type": "stream",
     "text": [
      "Loading California Housing Dataset...\n",
      "Training set size: 16512\n",
      "Test set size: 4128\n",
      "Training the model...\n",
      "RMSE on test set: 50201.61\n",
      "R2 Score on test set: 0.8077\n",
      "Model saved as 'california_rf_model.joblib'\n"
     ]
    }
   ],
   "source": [
    "import numpy as np\n",
    "import pandas as pd\n",
    "from sklearn.model_selection import train_test_split\n",
    "from sklearn.ensemble import RandomForestRegressor\n",
    "from sklearn.metrics import mean_squared_error, r2_score\n",
    "from joblib import dump\n",
    "import warnings\n",
    "warnings.filterwarnings('ignore')\n",
    "\n",
    "# 1. Load and prepare data\n",
    "print(\"Loading California Housing Dataset...\")\n",
    "df = pd.read_csv(\"data/housing.csv\")\n",
    "\n",
    "# Separate features and target\n",
    "X = df.drop([\"median_house_value\", \"ocean_proximity\"], axis=1)\n",
    "y = df[\"median_house_value\"]\n",
    "\n",
    "# Create a synthetic sensitive attribute\n",
    "X['high_income'] = (X['median_income'] > X['median_income'].median()).astype(int)\n",
    "sensitive_feature = X['high_income']\n",
    "\n",
    "# Split data\n",
    "X_train, X_test, y_train, y_test = train_test_split(X, y, test_size=0.2, random_state=42)\n",
    "\n",
    "print(f\"Training set size: {X_train.shape[0]}\")\n",
    "print(f\"Test set size: {X_test.shape[0]}\")\n",
    "\n",
    "# 2. Train a simple but reasonably strong RandomForest model\n",
    "model = RandomForestRegressor(\n",
    "    n_estimators=100,   # a bit more trees than default for better performance\n",
    "    max_depth=15,       # prevents overfitting, keeps training fast\n",
    "    random_state=42,\n",
    "    n_jobs=-1           # use all CPU cores for speed\n",
    ")\n",
    "\n",
    "print(\"Training the model...\")\n",
    "model.fit(X_train, y_train)\n",
    "\n",
    "# 3. Evaluate model\n",
    "y_pred = model.predict(X_test)\n",
    "rmse = np.sqrt(mean_squared_error(y_test, y_pred))\n",
    "r2 = r2_score(y_test, y_pred)\n",
    "\n",
    "print(f\"RMSE on test set: {rmse:.2f}\")\n",
    "print(f\"R2 Score on test set: {r2:.4f}\")\n",
    "\n",
    "# 4. Save model using joblib\n",
    "dump(model, \"./artifacts/california_rf_model.joblib\")\n",
    "print(\"Model saved as 'california_rf_model.joblib'\")"
   ]
  },
  {
   "cell_type": "code",
   "execution_count": null,
   "id": "3ee2b5cd-73b0-4472-9dc5-366556405b00",
   "metadata": {},
   "outputs": [],
   "source": []
  }
 ],
 "metadata": {
  "environment": {
   "kernel": "mlops",
   "name": "workbench-notebooks.m130",
   "type": "gcloud",
   "uri": "us-docker.pkg.dev/deeplearning-platform-release/gcr.io/workbench-notebooks:m130"
  },
  "kernelspec": {
   "display_name": "Python (oppe2) (Local)",
   "language": "python",
   "name": "mlops"
  },
  "language_info": {
   "codemirror_mode": {
    "name": "ipython",
    "version": 3
   },
   "file_extension": ".py",
   "mimetype": "text/x-python",
   "name": "python",
   "nbconvert_exporter": "python",
   "pygments_lexer": "ipython3",
   "version": "3.12.11"
  }
 },
 "nbformat": 4,
 "nbformat_minor": 5
}
